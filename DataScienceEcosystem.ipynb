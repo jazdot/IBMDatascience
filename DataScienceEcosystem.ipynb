{
 "cells": [
  {
   "cell_type": "markdown",
   "id": "8f3e6a48-64c6-45ca-b095-e50eba29b4e4",
   "metadata": {},
   "source": [
    "# Data Science Tools and Ecosystem"
   ]
  },
  {
   "cell_type": "markdown",
   "id": "7f1ac7b8-e7ea-4594-8665-3d20f6b2640a",
   "metadata": {},
   "source": [
    "## In this notebook, Data Science Tools and Ecosystem are summarized."
   ]
  },
  {
   "cell_type": "markdown",
   "id": "52a12d2b-5752-455d-9b0e-fbda0ab71d15",
   "metadata": {},
   "source": [
    "## **objectives:**\n",
    "+ List popular Data science languages\n",
    "+ List popular Data science libraries\n",
    "+ List popular Data science tools\n",
    "+ Show basic arithmetic expressions"
   ]
  },
  {
   "cell_type": "markdown",
   "id": "d2299bfe-69a6-41d7-b959-774ce76d9fb6",
   "metadata": {},
   "source": [
    "### Some of the popular languages that Data Scientists use are:\n",
    "1. Python\n",
    "2. R\n",
    "3. SQL\n",
    "4. Java\n",
    "5. Julia"
   ]
  },
  {
   "cell_type": "markdown",
   "id": "6618f3a7-5be9-4f66-9cdf-8af1121ae012",
   "metadata": {},
   "source": [
    "### Some of the commonly used libraries used by Data Scientists include:\n",
    "1. Numpy\n",
    "2. Pandas\n",
    "3. Matplotlib\n",
    "4. Pytorch"
   ]
  },
  {
   "cell_type": "markdown",
   "id": "e3d1e89c-6a8c-4f3f-af2f-0c8840abdf9e",
   "metadata": {
    "tags": []
   },
   "source": [
    "|Data Science Tools|\n",
    "|-----|\n",
    "|Jupyter Notebook|\n",
    "|IBM Watson Studio|\n",
    "|Apache Spark|\n",
    "|Tableau|"
   ]
  },
  {
   "cell_type": "markdown",
   "id": "09ea3ac5-3336-46fc-8160-e32dc1bea1ef",
   "metadata": {},
   "source": [
    "### Below are a few examples of evaluating arithmetic expressions in Python"
   ]
  },
  {
   "cell_type": "code",
   "execution_count": 2,
   "id": "642c3154-2e0a-4501-8e94-8830f4e1e2af",
   "metadata": {
    "tags": []
   },
   "outputs": [
    {
     "data": {
      "text/plain": [
       "17"
      ]
     },
     "execution_count": 2,
     "metadata": {},
     "output_type": "execute_result"
    }
   ],
   "source": [
    "#This a simple arithmetic expression to mutiply then add integers\n",
    "(3*4)+5"
   ]
  },
  {
   "cell_type": "code",
   "execution_count": 5,
   "id": "643eadd2-e91e-4879-a2c1-c5f91d69276f",
   "metadata": {
    "tags": []
   },
   "outputs": [
    {
     "name": "stdout",
     "output_type": "stream",
     "text": [
      "200 minuites =33.333333333333336hours\n"
     ]
    }
   ],
   "source": [
    "#This will convert 200 minutes to hours by diving by 60\n",
    "hours=str(200/6)\n",
    "print(\"200 minuites =\"+hours+\"hours\")"
   ]
  },
  {
   "cell_type": "markdown",
   "id": "7b0bb51b-48a9-4bf7-898e-b1c998336b53",
   "metadata": {},
   "source": [
    "## Author\n",
    "Muhammed Riswan M P"
   ]
  },
  {
   "cell_type": "code",
   "execution_count": null,
   "id": "81185281-b938-476a-a991-f8128412059c",
   "metadata": {},
   "outputs": [],
   "source": []
  }
 ],
 "metadata": {
  "kernelspec": {
   "display_name": "Python",
   "language": "python",
   "name": "conda-env-python-py"
  },
  "language_info": {
   "codemirror_mode": {
    "name": "ipython",
    "version": 3
   },
   "file_extension": ".py",
   "mimetype": "text/x-python",
   "name": "python",
   "nbconvert_exporter": "python",
   "pygments_lexer": "ipython3",
   "version": "3.7.12"
  }
 },
 "nbformat": 4,
 "nbformat_minor": 5
}
